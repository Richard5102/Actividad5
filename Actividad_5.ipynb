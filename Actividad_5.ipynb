{
  "nbformat": 4,
  "nbformat_minor": 0,
  "metadata": {
    "colab": {
      "provenance": []
    },
    "kernelspec": {
      "name": "python3",
      "display_name": "Python 3"
    },
    "language_info": {
      "name": "python"
    }
  },
  "cells": [
    {
      "cell_type": "markdown",
      "source": [
        "Ejercicio 1 progra funcional\n",
        "\n",
        "---\n",
        "\n",
        "\n",
        "Dada una lista de números enteros cualquiera, utilice los métodos map, filter y reduce\n",
        "para filtrar los números impares de la lista y calcular la suma de sus cuadrados.\n"
      ],
      "metadata": {
        "id": "tUnJMpgtKXha"
      }
    },
    {
      "cell_type": "code",
      "execution_count": null,
      "metadata": {
        "colab": {
          "base_uri": "https://localhost:8080/"
        },
        "id": "krcHbfxQGNdS",
        "outputId": "997383a7-df84-4655-bef0-3e6e333a7ac1"
      },
      "outputs": [
        {
          "output_type": "stream",
          "name": "stdout",
          "text": [
            "120\n",
            "[4, 16, 36, 64]\n"
          ]
        }
      ],
      "source": [
        "from functools import reduce\n",
        "lista = [1,2,3,4,5,6,7,8,9]\n",
        "\n",
        "def filterCuadradoReduce(lista):\n",
        "\n",
        "  return reduce(lambda x,y: x + y,\n",
        "          map(lambda lista:lista**2,\n",
        "            filter(lambda lista:lista %2 == 0, lista)\n",
        "            ) ,0)\n",
        "\n",
        "def cuadradoFilter(lista):\n",
        "  return list(map(lambda lista:lista**2,\n",
        "            filter(lambda lista:lista %2 == 0, lista)\n",
        "            )   )\n",
        "\n",
        "\n",
        "print(filterCuadradoReduce(lista))\n",
        "\n",
        "print(cuadradoFilter(lista))\n",
        "\n",
        "\n"
      ]
    },
    {
      "cell_type": "markdown",
      "source": [
        "Ejercico 2 progra funcional\n",
        "\n",
        "---\n",
        "\n",
        "\n",
        " Dada una lista de diccionarios que representan productos con nombre (llave en el\n",
        "diccionario) y precio (valor de la llave en el diccionario), filtre los productos que\n",
        "cuestan más de $200, y aplique un descuento del 10%. Finalmente calcule el total de los\n",
        "productos que tienen descuento.\n"
      ],
      "metadata": {
        "id": "w-lihu-bKjyX"
      }
    },
    {
      "cell_type": "code",
      "source": [
        "from functools import reduce\n",
        "\n",
        "productos = [\n",
        "    {\"camisa\": 300},\n",
        "    {\"pantalon\": 400},\n",
        "    {\"calcetines\": 50},\n",
        "    {\"bufanda\": 150},\n",
        "    {\"zapatos\": 450},\n",
        "]\n",
        "\n",
        "\n",
        "def listaProductos(lista):\n",
        "  return list(\n",
        "      map(lambda lista:lista[list(lista)[0]]*.9,\n",
        "          filter(\n",
        "              lambda lista:lista[list(lista)[0]]>200, lista\n",
        "            )\n",
        "          )\n",
        "  )\n",
        "\n",
        "\n",
        "def total(lista):\n",
        "\n",
        "    return reduce(lambda x,y: x + y,\n",
        "        map(lambda lista:lista[list(lista)[0]]*.9,\n",
        "            filter(\n",
        "                lambda lista:lista[list(lista)[0]]>200, lista\n",
        "              )\n",
        "            )\n",
        "      )\n",
        "\n",
        "\n",
        "\n",
        "#print(personas[1].keys())\n",
        "print(listaProductos(productos))\n",
        "print(total(productos))\n"
      ],
      "metadata": {
        "colab": {
          "base_uri": "https://localhost:8080/"
        },
        "id": "7fPP9KgpKyIK",
        "outputId": "196949ae-10af-4d67-9588-6eb19f625932"
      },
      "execution_count": null,
      "outputs": [
        {
          "output_type": "stream",
          "name": "stdout",
          "text": [
            "[270.0, 360.0, 405.0]\n",
            "1035.0\n"
          ]
        }
      ]
    },
    {
      "cell_type": "code",
      "source": [
        "from functools import reduce\n",
        "\n",
        "datos =  [(1, 1.3),(2, 3.5),(3, 4.2),(4, 5),(5, 7),(6, 8.8),(7, 10.1),(8, 12.5),(9, 13),(10, 15.6)]\n",
        "\n",
        "puntos_x = list(map(lambda x: x[0], datos))\n",
        "puntos_y = list(map(lambda x: x[1], datos))\n",
        "puntos_xy = list(map(lambda x: x[0]*x[1], datos))\n",
        "puntos_x2 = list(map(lambda x: x[0]**2, datos))\n",
        "\n",
        "suma_x = reduce(lambda x, y: x + y, puntos_x)\n",
        "suma_y = reduce(lambda x, y: x + y, puntos_y)\n",
        "suma_xy = reduce(lambda x, y: x + y, puntos_xy)\n",
        "suma_x2 = reduce(lambda x,y: x+y, puntos_x2)\n",
        "\n",
        "m = len(datos)\n",
        "denominador = m*suma_x2-(suma_x**2)\n",
        "\n",
        "a0 = (suma_x2*suma_y - suma_x*suma_xy)/denominador\n",
        "A0 = \"{:.3f}\".format(a0)\n",
        "a1 = (m*suma_xy - suma_x*suma_y)/denominador\n",
        "A1 = \"{:.3f}\".format(a1)\n",
        "\n"
      ],
      "metadata": {
        "id": "3Fc1Hp-kMVN5"
      },
      "execution_count": 13,
      "outputs": []
    },
    {
      "cell_type": "code",
      "source": [
        "print(puntos_x)\n",
        "print(puntos_y)\n",
        "print(puntos_xy)\n",
        "\n",
        "print(suma_x)\n",
        "print(suma_y)\n",
        "print(suma_x2)\n",
        "print(suma_xy)"
      ],
      "metadata": {
        "colab": {
          "base_uri": "https://localhost:8080/"
        },
        "id": "asAugDdZSwx7",
        "outputId": "22610efc-9f18-415d-edc0-e7b0c5f39c79"
      },
      "execution_count": 10,
      "outputs": [
        {
          "output_type": "stream",
          "name": "stdout",
          "text": [
            "[1, 2, 3, 4, 5, 6, 7, 8, 9, 10]\n",
            "[1.3, 3.5, 4.2, 5, 7, 8.8, 10.1, 12.5, 13, 15.6]\n",
            "[1.3, 7.0, 12.600000000000001, 20, 35, 52.800000000000004, 70.7, 100.0, 117, 156.0]\n",
            "55\n",
            "81.0\n",
            "385\n",
            "572.4000000000001\n"
          ]
        }
      ]
    },
    {
      "cell_type": "code",
      "source": [
        "print(\"Ecuación final:\\n\")\n",
        "print(f'y = {A0} + {A1}x')"
      ],
      "metadata": {
        "colab": {
          "base_uri": "https://localhost:8080/"
        },
        "id": "Eb3TI_JnS5nY",
        "outputId": "0927a27b-4781-481c-cfa4-530b36b6d377"
      },
      "execution_count": 14,
      "outputs": [
        {
          "output_type": "stream",
          "name": "stdout",
          "text": [
            "Ecuación final:\n",
            "\n",
            "y = -0.360 + 1.538x\n"
          ]
        }
      ]
    }
  ]
}